{
 "cells": [
  {
   "cell_type": "code",
   "execution_count": 1,
   "metadata": {},
   "outputs": [],
   "source": [
    "import re\n",
    "import string\n",
    "\n",
    "import nltk\n",
    "from nltk.corpus import stopwords\n",
    "from nltk.stem.porter import PorterStemmer\n",
    "\n",
    "import numpy as np\n",
    "import pandas as pd\n",
    "\n",
    "import tensorflow as tf\n",
    "from tensorflow.keras.preprocessing.text import Tokenizer\n",
    "from tensorflow.keras.preprocessing.text import one_hot\n",
    "from tensorflow.keras.utils import to_categorical\n",
    "from tensorflow.keras.preprocessing.sequence import pad_sequences\n",
    "from tensorflow.keras.layers import Input\n",
    "from tensorflow.keras.layers import Embedding\n",
    "from tensorflow.keras.models import Sequential\n",
    "from tensorflow.keras.layers import Concatenate\n",
    "from tensorflow.keras.layers import LSTM\n",
    "from tensorflow.keras.layers import Dense\n",
    "\n",
    "from sklearn.model_selection import train_test_split\n",
    "from sklearn.metrics import classification_report\n",
    "\n",
    "import matplotlib.pyplot as plt\n",
    "import seaborn as sns"
   ]
  },
  {
   "cell_type": "code",
   "execution_count": 2,
   "metadata": {},
   "outputs": [],
   "source": [
    "data=pd.read_csv(\"train.csv\")"
   ]
  },
  {
   "cell_type": "code",
   "execution_count": 3,
   "metadata": {
    "scrolled": true
   },
   "outputs": [
    {
     "data": {
      "text/html": [
       "<div>\n",
       "<style scoped>\n",
       "    .dataframe tbody tr th:only-of-type {\n",
       "        vertical-align: middle;\n",
       "    }\n",
       "\n",
       "    .dataframe tbody tr th {\n",
       "        vertical-align: top;\n",
       "    }\n",
       "\n",
       "    .dataframe thead th {\n",
       "        text-align: right;\n",
       "    }\n",
       "</style>\n",
       "<table border=\"1\" class=\"dataframe\">\n",
       "  <thead>\n",
       "    <tr style=\"text-align: right;\">\n",
       "      <th></th>\n",
       "      <th>text</th>\n",
       "      <th>aspect</th>\n",
       "      <th>label</th>\n",
       "    </tr>\n",
       "  </thead>\n",
       "  <tbody>\n",
       "    <tr>\n",
       "      <th>0</th>\n",
       "      <td>can you check whether its cancelled completely?</td>\n",
       "      <td>cancelled</td>\n",
       "      <td>1</td>\n",
       "    </tr>\n",
       "    <tr>\n",
       "      <th>1</th>\n",
       "      <td>cannot rely on both milk delivery and grocery ...</td>\n",
       "      <td>Milk</td>\n",
       "      <td>0</td>\n",
       "    </tr>\n",
       "    <tr>\n",
       "      <th>2</th>\n",
       "      <td>I get no notification, however the app is real...</td>\n",
       "      <td>notification</td>\n",
       "      <td>0</td>\n",
       "    </tr>\n",
       "    <tr>\n",
       "      <th>3</th>\n",
       "      <td>Love this app, but would love it even more if ...</td>\n",
       "      <td>view</td>\n",
       "      <td>1</td>\n",
       "    </tr>\n",
       "    <tr>\n",
       "      <th>4</th>\n",
       "      <td>it does not let me load a clip on the scene</td>\n",
       "      <td>load</td>\n",
       "      <td>0</td>\n",
       "    </tr>\n",
       "    <tr>\n",
       "      <th>...</th>\n",
       "      <td>...</td>\n",
       "      <td>...</td>\n",
       "      <td>...</td>\n",
       "    </tr>\n",
       "    <tr>\n",
       "      <th>3995</th>\n",
       "      <td>every time i try to edit a page or create a li...</td>\n",
       "      <td>tools</td>\n",
       "      <td>0</td>\n",
       "    </tr>\n",
       "    <tr>\n",
       "      <th>3996</th>\n",
       "      <td>unable to load money using wallets (phonepe/ol...</td>\n",
       "      <td>Unable to load money using wallets</td>\n",
       "      <td>0</td>\n",
       "    </tr>\n",
       "    <tr>\n",
       "      <th>3997</th>\n",
       "      <td>hi, i m doing for the first time ever and i no...</td>\n",
       "      <td>usage</td>\n",
       "      <td>0</td>\n",
       "    </tr>\n",
       "    <tr>\n",
       "      <th>3998</th>\n",
       "      <td>delivery is delayed or cancelled every time i ...</td>\n",
       "      <td>Delivery</td>\n",
       "      <td>0</td>\n",
       "    </tr>\n",
       "    <tr>\n",
       "      <th>3999</th>\n",
       "      <td>your customer service is terrible!</td>\n",
       "      <td>customer service</td>\n",
       "      <td>0</td>\n",
       "    </tr>\n",
       "  </tbody>\n",
       "</table>\n",
       "<p>4000 rows × 3 columns</p>\n",
       "</div>"
      ],
      "text/plain": [
       "                                                   text  \\\n",
       "0       can you check whether its cancelled completely?   \n",
       "1     cannot rely on both milk delivery and grocery ...   \n",
       "2     I get no notification, however the app is real...   \n",
       "3     Love this app, but would love it even more if ...   \n",
       "4           it does not let me load a clip on the scene   \n",
       "...                                                 ...   \n",
       "3995  every time i try to edit a page or create a li...   \n",
       "3996  unable to load money using wallets (phonepe/ol...   \n",
       "3997  hi, i m doing for the first time ever and i no...   \n",
       "3998  delivery is delayed or cancelled every time i ...   \n",
       "3999                 your customer service is terrible!   \n",
       "\n",
       "                                  aspect  label  \n",
       "0                              cancelled      1  \n",
       "1                                   Milk      0  \n",
       "2                           notification      0  \n",
       "3                                   view      1  \n",
       "4                                   load      0  \n",
       "...                                  ...    ...  \n",
       "3995                               tools      0  \n",
       "3996  Unable to load money using wallets      0  \n",
       "3997                               usage      0  \n",
       "3998                            Delivery      0  \n",
       "3999                    customer service      0  \n",
       "\n",
       "[4000 rows x 3 columns]"
      ]
     },
     "execution_count": 3,
     "metadata": {},
     "output_type": "execute_result"
    }
   ],
   "source": [
    "data"
   ]
  },
  {
   "cell_type": "code",
   "execution_count": 4,
   "metadata": {
    "scrolled": false
   },
   "outputs": [
    {
     "data": {
      "text/plain": [
       "<AxesSubplot:xlabel='label', ylabel='count'>"
      ]
     },
     "execution_count": 4,
     "metadata": {},
     "output_type": "execute_result"
    },
    {
     "data": {
      "image/png": "[encoded data removed]",
      "text/plain": [
       "<Figure size 432x288 with 1 Axes>"
      ]
     },
     "metadata": {
      "needs_background": "light"
     },
     "output_type": "display_data"
    }
   ],
   "source": [
    "sns.countplot(x='label', data=data)"
   ]
  },
  {
   "cell_type": "code",
   "execution_count": 5,
   "metadata": {},
   "outputs": [],
   "source": [
    "ps = PorterStemmer()\n",
    "def clean_text(text): \n",
    "    ptext = re.sub('http[s]?://\\S+', '', text)\n",
    "    ptext = re.sub('[^0-9a-zA-Z]', ' ', ptext)\n",
    "    ptext = ptext.lower()\n",
    "    \n",
    "    ptext = re.sub(r'(\\s)emoticonX\\w+', '', ptext)\n",
    "    \n",
    "    ptext = ptext.split()\n",
    "    ptext = [ps.stem(word) for word in ptext if not word in stopwords.words('english')]\n",
    "    \n",
    "    ptext = ' '.join(ptext)\n",
    "    \n",
    "    return ptext\n",
    "data['text'] = data['text'].apply(clean_text)\n",
    "data['aspect'] = data['aspect'].apply(clean_text)"
   ]
  },
  {
   "cell_type": "code",
   "execution_count": 6,
   "metadata": {},
   "outputs": [],
   "source": [
    "tokenizer = Tokenizer(num_words=5000)\n",
    "tokenizer.fit_on_texts(data['text'])"
   ]
  },
  {
   "cell_type": "code",
   "execution_count": 7,
   "metadata": {},
   "outputs": [],
   "source": [
    "tokenized_text = tokenizer.texts_to_sequences(data['text'])\n",
    "tokenized_aspect = tokenizer.texts_to_sequences(data['aspect'])"
   ]
  },
  {
   "cell_type": "code",
   "execution_count": 8,
   "metadata": {
    "scrolled": true
   },
   "outputs": [
    {
     "name": "stdout",
     "output_type": "stream",
     "text": [
      "[[   0    0    0 ...  372   47  228]\n",
      " [   0    0    0 ...    3  396   45]\n",
      " [   0    0    0 ...    1   53  330]\n",
      " ...\n",
      " [   0    0    0 ... 1791  441    1]\n",
      " [   0    0    0 ...    5   70  248]\n",
      " [   0    0    0 ...   29   13  484]]\n",
      "[[   0    0    0 ...    0    0   47]\n",
      " [   0    0    0 ...    0    0   22]\n",
      " [   0    0    0 ...    0    0  218]\n",
      " ...\n",
      " [   0    0    0 ...    0    0 1791]\n",
      " [   0    0    0 ...    0    0    3]\n",
      " [   0    0    0 ...    0   29   13]]\n"
     ]
    }
   ],
   "source": [
    "embedded_text=pad_sequences(tokenized_text,padding='pre',maxlen=120)\n",
    "print(embedded_text)\n",
    "\n",
    "embedded_aspect=pad_sequences(tokenized_aspect,padding='pre',maxlen=8)\n",
    "print(embedded_aspect)"
   ]
  },
  {
   "cell_type": "code",
   "execution_count": 9,
   "metadata": {},
   "outputs": [
    {
     "data": {
      "text/plain": [
       "(4000, 4000, (4000,))"
      ]
     },
     "execution_count": 9,
     "metadata": {},
     "output_type": "execute_result"
    }
   ],
   "source": [
    "len(embedded_text),len(embedded_aspect),data['label'].shape"
   ]
  },
  {
   "cell_type": "code",
   "execution_count": 10,
   "metadata": {},
   "outputs": [],
   "source": [
    "X1=np.array(embedded_text)\n",
    "X2=np.array(embedded_aspect)\n",
    "y=np.array(data['label'])"
   ]
  },
  {
   "cell_type": "code",
   "execution_count": 11,
   "metadata": {},
   "outputs": [],
   "source": [
    "input_1 = Input(shape=(120,))\n",
    "\n",
    "input_2 = Input(shape=(8,))"
   ]
  },
  {
   "cell_type": "code",
   "execution_count": 12,
   "metadata": {},
   "outputs": [],
   "source": [
    "embedding_layer_1 = Embedding(5000, 120)(input_1)\n",
    "LSTM_Layer_1 = LSTM(128)(embedding_layer_1)"
   ]
  },
  {
   "cell_type": "code",
   "execution_count": 13,
   "metadata": {},
   "outputs": [],
   "source": [
    "embedding_layer_2 = Embedding(5000, 8)(input_2)\n",
    "LSTM_Layer_2 = LSTM(32)(embedding_layer_2)"
   ]
  },
  {
   "cell_type": "code",
   "execution_count": 14,
   "metadata": {},
   "outputs": [],
   "source": [
    "concat_layer = Concatenate()([LSTM_Layer_1, LSTM_Layer_2])\n",
    "dense_layer_1 = Dense(15, activation='relu')(concat_layer)\n",
    "output = Dense(3, activation='softmax')(dense_layer_1)\n",
    "model = tf.keras.Model(inputs=[input_1, input_2], outputs=output)"
   ]
  },
  {
   "cell_type": "code",
   "execution_count": 15,
   "metadata": {
    "scrolled": false
   },
   "outputs": [
    {
     "name": "stdout",
     "output_type": "stream",
     "text": [
      "Model: \"model\"\n",
      "__________________________________________________________________________________________________\n",
      "Layer (type)                    Output Shape         Param #     Connected to                     \n",
      "==================================================================================================\n",
      "input_1 (InputLayer)            [(None, 120)]        0                                            \n",
      "__________________________________________________________________________________________________\n",
      "input_2 (InputLayer)            [(None, 8)]          0                                            \n",
      "__________________________________________________________________________________________________\n",
      "embedding (Embedding)           (None, 120, 120)     600000      input_1[0][0]                    \n",
      "__________________________________________________________________________________________________\n",
      "embedding_1 (Embedding)         (None, 8, 8)         40000       input_2[0][0]                    \n",
      "__________________________________________________________________________________________________\n",
      "lstm (LSTM)                     (None, 128)          127488      embedding[0][0]                  \n",
      "__________________________________________________________________________________________________\n",
      "lstm_1 (LSTM)                   (None, 32)           5248        embedding_1[0][0]                \n",
      "__________________________________________________________________________________________________\n",
      "concatenate (Concatenate)       (None, 160)          0           lstm[0][0]                       \n",
      "                                                                 lstm_1[0][0]                     \n",
      "__________________________________________________________________________________________________\n",
      "dense (Dense)                   (None, 15)           2415        concatenate[0][0]                \n",
      "__________________________________________________________________________________________________\n",
      "dense_1 (Dense)                 (None, 3)            48          dense[0][0]                      \n",
      "==================================================================================================\n",
      "Total params: 775,199\n",
      "Trainable params: 775,199\n",
      "Non-trainable params: 0\n",
      "__________________________________________________________________________________________________\n",
      "None\n"
     ]
    }
   ],
   "source": [
    "model.compile(loss='categorical_crossentropy', optimizer='adam', metrics=['acc'])\n",
    "print(model.summary())"
   ]
  },
  {
   "cell_type": "code",
   "execution_count": 16,
   "metadata": {},
   "outputs": [
    {
     "data": {
      "image/png": "[encoded data removed]",
      "text/plain": [
       "<IPython.core.display.Image object>"
      ]
     },
     "execution_count": 16,
     "metadata": {},
     "output_type": "execute_result"
    }
   ],
   "source": [
    "tf.keras.utils.plot_model(model)"
   ]
  },
  {
   "cell_type": "code",
   "execution_count": 17,
   "metadata": {},
   "outputs": [
    {
     "data": {
      "text/plain": [
       "(4000, 120)"
      ]
     },
     "execution_count": 17,
     "metadata": {},
     "output_type": "execute_result"
    }
   ],
   "source": [
    "X1.shape"
   ]
  },
  {
   "cell_type": "code",
   "execution_count": 18,
   "metadata": {
    "scrolled": true
   },
   "outputs": [
    {
     "name": "stdout",
     "output_type": "stream",
     "text": [
      "Train text data len:3600\n",
      "Train aspect data len:3600\n",
      "Class distribution\n",
      "0    1501\n",
      "1    1170\n",
      "2     929\n",
      "dtype: int64\n",
      "\n",
      "Test text data len:400\n",
      "Test aspect data len:400\n",
      "Class distribution\n",
      "0    179\n",
      "1    124\n",
      "2     97\n",
      "dtype: int64\n"
     ]
    }
   ],
   "source": [
    "X1_train, X1_test,X2_train, X2_test, y_train, y_test = train_test_split(X1,X2, y, test_size=0.1, random_state=42)\n",
    "print('Train text data len:'+str(len(X1_train)))\n",
    "print('Train aspect data len:'+str(len(X2_train)))\n",
    "print('Class distribution\\n'+str((pd.Series(y_train)).value_counts()))\n",
    "print()\n",
    "print('Test text data len:'+str(len(X1_test)))\n",
    "print('Test aspect data len:'+str(len(X2_test)))\n",
    "print('Class distribution\\n'+str((pd.Series(y_test)).value_counts()))"
   ]
  },
  {
   "cell_type": "code",
   "execution_count": 19,
   "metadata": {},
   "outputs": [],
   "source": [
    "y_train = to_categorical(y_train, 3)\n",
    "y_test = to_categorical(y_test, 3)"
   ]
  },
  {
   "cell_type": "code",
   "execution_count": 20,
   "metadata": {},
   "outputs": [
    {
     "name": "stdout",
     "output_type": "stream",
     "text": [
      "Epoch 1/4\n",
      "23/23 [==============================] - 17s 478ms/step - loss: 1.0744 - acc: 0.4142 - val_loss: 1.0525 - val_acc: 0.4194\n",
      "Epoch 2/4\n",
      "23/23 [==============================] - 9s 403ms/step - loss: 0.9668 - acc: 0.5312 - val_loss: 0.9453 - val_acc: 0.5500\n",
      "Epoch 3/4\n",
      "23/23 [==============================] - 10s 429ms/step - loss: 0.8527 - acc: 0.6698 - val_loss: 0.8645 - val_acc: 0.6236\n",
      "Epoch 4/4\n",
      "23/23 [==============================] - 9s 409ms/step - loss: 0.6219 - acc: 0.7691 - val_loss: 0.8169 - val_acc: 0.6417\n"
     ]
    }
   ],
   "source": [
    "history = model.fit(x=[X1_train, X2_train], y=y_train, batch_size=128, epochs=4, verbose=1, validation_split=0.2)"
   ]
  },
  {
   "cell_type": "code",
   "execution_count": 21,
   "metadata": {
    "scrolled": true
   },
   "outputs": [
    {
     "name": "stdout",
     "output_type": "stream",
     "text": [
      "13/13 [==============================] - 1s 56ms/step - loss: 0.7360 - acc: 0.7075\n",
      "Accuracy: 0.71\n",
      "Loss: 0.74\n"
     ]
    }
   ],
   "source": [
    "loss,accuracy=model.evaluate([X1_test,X2_test],y_test)\n",
    "\n",
    "print('Accuracy: {}'.format(round(accuracy,2)))\n",
    "print('Loss: {}'.format(round(loss,2)))"
   ]
  },
  {
   "cell_type": "code",
   "execution_count": 22,
   "metadata": {
    "scrolled": false
   },
   "outputs": [
    {
     "data": {
      "text/plain": [
       "array([[0.4887472 , 0.46033755, 0.05091527],\n",
       "       [0.90778184, 0.02542705, 0.06679101],\n",
       "       [0.31306666, 0.0162243 , 0.670709  ],\n",
       "       ...,\n",
       "       [0.727472  , 0.25606385, 0.01646409],\n",
       "       [0.15895796, 0.6907467 , 0.15029524],\n",
       "       [0.07683071, 0.86516064, 0.05800857]], dtype=float32)"
      ]
     },
     "execution_count": 22,
     "metadata": {},
     "output_type": "execute_result"
    }
   ],
   "source": [
    "model.predict([X1_test,X2_test])"
   ]
  },
  {
   "cell_type": "code",
   "execution_count": 23,
   "metadata": {},
   "outputs": [
    {
     "data": {
      "image/png": "[encoded data removed]",
      "text/plain": [
       "<Figure size 432x288 with 1 Axes>"
      ]
     },
     "metadata": {
      "needs_background": "light"
     },
     "output_type": "display_data"
    },
    {
     "data": {
      "image/png": "[encoded data removed]",
      "text/plain": [
       "<Figure size 432x288 with 1 Axes>"
      ]
     },
     "metadata": {
      "needs_background": "light"
     },
     "output_type": "display_data"
    }
   ],
   "source": [
    "import matplotlib.pyplot as plt\n",
    "\n",
    "plt.plot(history.history['acc'])\n",
    "plt.plot(history.history['val_acc'])\n",
    "\n",
    "plt.title('model accuracy')\n",
    "plt.ylabel('accuracy')\n",
    "plt.xlabel('epoch')\n",
    "plt.legend(['train','test'], loc='upper left')\n",
    "plt.show()\n",
    "\n",
    "plt.plot(history.history['loss'])\n",
    "plt.plot(history.history['val_loss'])\n",
    "\n",
    "plt.title('model loss')\n",
    "plt.ylabel('loss')\n",
    "plt.xlabel('epoch')\n",
    "plt.legend(['train','test'], loc='upper left')\n",
    "plt.show()"
   ]
  },
  {
   "cell_type": "code",
   "execution_count": null,
   "metadata": {},
   "outputs": [],
   "source": []
  }
 ],
 "metadata": {
  "kernelspec": {
   "display_name": "Python [conda env:py3-TF2.0]",
   "language": "python",
   "name": "conda-env-py3-TF2.0-py"
  },
  "language_info": {
   "codemirror_mode": {
    "name": "ipython",
    "version": 3
   },
   "file_extension": ".py",
   "mimetype": "text/x-python",
   "name": "python",
   "nbconvert_exporter": "python",
   "pygments_lexer": "ipython3",
   "version": "3.7.7"
  }
 },
 "nbformat": 4,
 "nbformat_minor": 4
}
